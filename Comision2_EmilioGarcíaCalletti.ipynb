{
  "cells": [
    {
      "cell_type": "markdown",
      "metadata": {
        "id": "n8sRFfTlvrGl"
      },
      "source": [
        "# Modulo 1 . Verdadero o Falso\n",
        "\n",
        "1. Falso\n",
        "2. Verdadero\n",
        "3. Verdadero\n",
        "4. Falso \n",
        "5. Verdadero\n",
        "6. Verdadero\n",
        "7. Verdadero\n",
        "8. Verdadero\n",
        "9. Verdadero\n",
        "10. Verdadero\n",
        "\n",
        "\n",
        "\n"
      ]
    },
    {
      "cell_type": "markdown",
      "metadata": {
        "id": "MZ-yjYwbHS4S"
      },
      "source": [
        "# Modulo 2 . POO"
      ]
    },
    {
      "cell_type": "code",
      "execution_count": 4,
      "metadata": {
        "colab": {
          "base_uri": "https://localhost:8080/"
        },
        "id": "pJ9HvFypHfRP",
        "outputId": "7e894b09-3ddb-40ef-cfe7-3b6160239dcb"
      },
      "outputs": [
        {
          "name": "stdout",
          "output_type": "stream",
          "text": [
            "Número de serie: zv250\n",
            "Modelo: Sudestada\n",
            "Año del modelo: 2021\n",
            "Precio: 1900\n",
            "Número de serie: rv350\n",
            "Precio: 2500\n"
          ]
        }
      ],
      "source": [
        "class Bicicleteria:\n",
        "\n",
        "    def __init__(self,bicicletas,ganancias,cantidad_ventas):\n",
        "        self.bicicletas=bicicletas\n",
        "        self.ganancias=ganancias\n",
        "        self.cantidad_ventas=cantidad_ventas\n",
        "\n",
        "    def ver_bicicleteria(self): #Ver atributos\n",
        "       print(\"Bicletas:\", self.bicicletas)\n",
        "       print(\"Ganancias:\", self.ganancias)\n",
        "       print(\"Cantidad de ventas\", self.cantidad_ventas)\n",
        "\n",
        "    def vender_bicicleta(self,ganancias,cantidad_ventas): #Vender\n",
        "        self.ganancias=self.ganancias + ganancias\n",
        "        self.cantidad_ventas=self.cantidad_ventas + cantidad_ventas\n",
        "        self.bicicletas=self.bicicletas - 1\n",
        "    def comprar_bicicleta(self,bicicletas): #Comprar\n",
        "        self.bicicletas=self.bicicletas + bicicletas\n",
        "\n",
        "    \n",
        "    class Bicicleta:\n",
        "\n",
        "        def __init__(self,nro_de_serie,modelo,anio,precio):\n",
        "            self.nro_de_serie=nro_de_serie\n",
        "            self.modelo=modelo\n",
        "            self.anio=anio\n",
        "            self.precio=precio\n",
        "\n",
        "        def info_bicicleta(self):       #Ver atributos\n",
        "            print(\"Número de serie:\", self.nro_de_serie)\n",
        "            print(\"Modelo:\", self.modelo)\n",
        "            print(\"Año del modelo:\", self.anio)\n",
        "            print(\"Precio:\", self.precio) \n",
        "\n",
        "        def setter_precio(self,precio): #Modificar precio\n",
        "            self.precio=precio\n",
        "        def get_precio(self):           #Ver precio      \n",
        "            print(\"Precio:\", self.precio)\n",
        "        def get_nro_de_serie(self):     #Ver nro de serie  \n",
        "            print(\"Número de serie:\", self.nro_de_serie)\n",
        "\n",
        "# negocio=Bicicleteria(40,1500,2)\n",
        "# negocio.vender_bicicleta(450,1)\n",
        "# negocio.ver_bicicleteria()\n",
        "\n",
        "# negocio.comprar_bicicleta(21)\n",
        "# negocio.ver_bicicleteria()\n",
        "\n",
        "bici1=Bicicleteria.Bicicleta(\"xv200\",\"Zonda\",2020,500)\n",
        "\n",
        "bici2=Bicicleteria.Bicicleta(\"zv250\",\"Sudestada\",2021,700)\n",
        "bici2.setter_precio(1900)\n",
        "bici2.info_bicicleta()\n",
        "\n",
        "bici3=Bicicleteria.Bicicleta(\"rv350\",\"Pampero\",2022,1000)\n",
        "bici3.get_nro_de_serie()     \n",
        "\n",
        "bici4=Bicicleteria.Bicicleta(\"sv850\",\"Tornado\",2019,2500)\n",
        "bici4.get_precio()    \n"
      ]
    },
    {
      "cell_type": "markdown",
      "metadata": {
        "id": "_2Y7wYsaHg3E"
      },
      "source": [
        "# Modulo 3 . Guardar un objeto diccionario en un archivo json "
      ]
    },
    {
      "cell_type": "code",
      "execution_count": 7,
      "metadata": {
        "colab": {
          "base_uri": "https://localhost:8080/"
        },
        "id": "MOltVhz4VRRL",
        "outputId": "c10d97c5-6f2e-4bfb-d8cd-2e7c0223cc52"
      },
      "outputs": [
        {
          "name": "stdout",
          "output_type": "stream",
          "text": [
            "Nombre: Flash\n",
            "Identidad Secreta: Bartholomew Henry 'Barry' Allen\n",
            "Poderes: ['Inmensa velocidad', 'agilidad', 'Electrokinesis']\n",
            "Nombre: Batman\n",
            "Identidad Secreta: Bruce Wayne\n",
            "Poderes: ['Super fuerza', 'super velocidad']\n",
            "Nombre: Super Man\n",
            "Identidad Secreta: Clark Joseph Kent\n",
            "Poderes: ['Super fuerza', 'super velocidad', 'resistencia', 'agilidad', 'reflejos', 'durabilidad', 'sentidos y longevidad']\n"
          ]
        }
      ],
      "source": [
        "import json\n",
        "\n",
        "heroes = {}\n",
        "\n",
        "heroes['heroes'] = []\n",
        "\n",
        "heroes['heroes'].append({\n",
        "    \"nombre\": \"Flash\",\n",
        "    \"identidadSecreta\": \"Bartholomew Henry 'Barry' Allen\",\n",
        "    \"poderes\": [\"Inmensa velocidad\",\"agilidad\",\"Electrokinesis\"]})\n",
        "\n",
        "heroes['heroes'].append({\n",
        "    \"nombre\": \"Batman\",\n",
        "    \"identidadSecreta\": \"Bruce Wayne\", \n",
        "    \"poderes\": [\"Super fuerza\",\"super velocidad\"]})\n",
        "\n",
        "heroes['heroes'].append({\n",
        "    \"nombre\": \"Super Man\",\n",
        "    \"identidadSecreta\": \"Clark Joseph Kent\",\n",
        "    \"poderes\": [\"Super fuerza\",\"super velocidad\",\"resistencia\",\"agilidad\",\n",
        "     \"reflejos\",\"durabilidad\",\"sentidos y longevidad\"]})\n",
        "\n",
        "with open(\"super_heroes.json\", 'w') as file: # crear un  json \n",
        "    json.dump(heroes, file, indent=4)  \n",
        "   \n",
        "with open(\"super_heroes.json\", \"r\") as file:\n",
        "    dato_lectura=json.load(file)  # Leer con load y with\n",
        "    for heroe in dato_lectura[\"heroes\"]:\n",
        "      print(\"Nombre:\",heroe[\"nombre\"])\n",
        "      print(\"Identidad Secreta:\",heroe[\"identidadSecreta\"])\n",
        "      print(\"Poderes:\",heroe[\"poderes\"])"
      ]
    },
    {
      "cell_type": "markdown",
      "metadata": {
        "id": "8GW6fRhQM2Lq"
      },
      "source": [
        "# Modulo 4 . Análisis de datos"
      ]
    },
    {
      "cell_type": "code",
      "execution_count": 14,
      "metadata": {},
      "outputs": [
        {
          "ename": "ModuleNotFoundError",
          "evalue": "No module named 'pandas'",
          "output_type": "error",
          "traceback": [
            "\u001b[1;31m---------------------------------------------------------------------------\u001b[0m",
            "\u001b[1;31mModuleNotFoundError\u001b[0m                       Traceback (most recent call last)",
            "\u001b[1;32mc:\\Users\\Emilio\\Downloads\\Comision2_EmilioGarcíaCalletti.ipynb Cell 7'\u001b[0m in \u001b[0;36m<cell line: 1>\u001b[1;34m()\u001b[0m\n\u001b[1;32m----> <a href='vscode-notebook-cell:/c%3A/Users/Emilio/Downloads/Comision2_EmilioGarc%C3%ADaCalletti.ipynb#ch0000013?line=0'>1</a>\u001b[0m \u001b[39mimport\u001b[39;00m \u001b[39mpandas\u001b[39;00m \u001b[39mas\u001b[39;00m \u001b[39mpd\u001b[39;00m\n\u001b[0;32m      <a href='vscode-notebook-cell:/c%3A/Users/Emilio/Downloads/Comision2_EmilioGarc%C3%ADaCalletti.ipynb#ch0000013?line=1'>2</a>\u001b[0m \u001b[39mimport\u001b[39;00m \u001b[39mmatplotlib\u001b[39;00m\u001b[39m.\u001b[39;00m\u001b[39mpyplot\u001b[39;00m \u001b[39mas\u001b[39;00m \u001b[39mplt\u001b[39;00m\n\u001b[0;32m      <a href='vscode-notebook-cell:/c%3A/Users/Emilio/Downloads/Comision2_EmilioGarc%C3%ADaCalletti.ipynb#ch0000013?line=2'>3</a>\u001b[0m get_ipython()\u001b[39m.\u001b[39mrun_line_magic(\u001b[39m'\u001b[39m\u001b[39mmatplotlib\u001b[39m\u001b[39m'\u001b[39m, \u001b[39m'\u001b[39m\u001b[39minline\u001b[39m\u001b[39m'\u001b[39m)\n",
            "\u001b[1;31mModuleNotFoundError\u001b[0m: No module named 'pandas'"
          ]
        }
      ],
      "source": [
        "import pandas as pd\n",
        "import matplotlib.pyplot as plt\n",
        "get_ipython().run_line_magic('matplotlib', 'inline')"
      ]
    },
    {
      "cell_type": "code",
      "execution_count": 11,
      "metadata": {
        "colab": {
          "base_uri": "https://localhost:8080/",
          "height": 206
        },
        "id": "eCyvFTTCVPun",
        "outputId": "ffa4a82f-105f-4381-b34f-5d86b1f34498"
      },
      "outputs": [
        {
          "ename": "ModuleNotFoundError",
          "evalue": "No module named 'pandas'",
          "output_type": "error",
          "traceback": [
            "\u001b[1;31m---------------------------------------------------------------------------\u001b[0m",
            "\u001b[1;31mModuleNotFoundError\u001b[0m                       Traceback (most recent call last)",
            "\u001b[1;32mc:\\Users\\Emilio\\Downloads\\Comision2_EmilioGarcíaCalletti.ipynb Cell 7'\u001b[0m in \u001b[0;36m<cell line: 1>\u001b[1;34m()\u001b[0m\n\u001b[1;32m----> <a href='vscode-notebook-cell:/c%3A/Users/Emilio/Downloads/Comision2_EmilioGarc%C3%ADaCalletti.ipynb#ch0000006?line=0'>1</a>\u001b[0m \u001b[39mimport\u001b[39;00m \u001b[39mpandas\u001b[39;00m \u001b[39mas\u001b[39;00m \u001b[39mpd\u001b[39;00m\n\u001b[0;32m      <a href='vscode-notebook-cell:/c%3A/Users/Emilio/Downloads/Comision2_EmilioGarc%C3%ADaCalletti.ipynb#ch0000006?line=1'>2</a>\u001b[0m \u001b[39mimport\u001b[39;00m \u001b[39mmatplotlib\u001b[39;00m\u001b[39m.\u001b[39;00m\u001b[39mpyplot\u001b[39;00m \u001b[39mas\u001b[39;00m \u001b[39mplt\u001b[39;00m\n\u001b[0;32m      <a href='vscode-notebook-cell:/c%3A/Users/Emilio/Downloads/Comision2_EmilioGarc%C3%ADaCalletti.ipynb#ch0000006?line=2'>3</a>\u001b[0m get_ipython()\u001b[39m.\u001b[39mrun_line_magic(\u001b[39m'\u001b[39m\u001b[39mmatplotlib\u001b[39m\u001b[39m'\u001b[39m, \u001b[39m'\u001b[39m\u001b[39minline\u001b[39m\u001b[39m'\u001b[39m)\n",
            "\u001b[1;31mModuleNotFoundError\u001b[0m: No module named 'pandas'"
          ]
        }
      ],
      "source": [
        "import pandas as pd\n",
        "import matplotlib.pyplot as plt\n",
        "%matplotlib inline\n",
        " #Importar el dataset que contiene información sobre los pasajeros del Titanic\n",
        "\n",
        "df_passenger=pd.read_csv('https://raw.githubusercontent.com/NotAyushXD/Titanic-dataset/master/train.csv')\n",
        "df_passenger.head() # 1. Mostrar la información de los primeros 5 pasajeros"
      ]
    },
    {
      "cell_type": "code",
      "execution_count": 13,
      "metadata": {
        "colab": {
          "base_uri": "https://localhost:8080/"
        },
        "id": "pyuvdLPINxRt",
        "outputId": "a94e2e4d-2bcd-4663-ca8a-284cf7b3400f"
      },
      "outputs": [
        {
          "ename": "NameError",
          "evalue": "name 'df_passenger' is not defined",
          "output_type": "error",
          "traceback": [
            "\u001b[1;31m---------------------------------------------------------------------------\u001b[0m",
            "\u001b[1;31mNameError\u001b[0m                                 Traceback (most recent call last)",
            "\u001b[1;32mc:\\Users\\Emilio\\Downloads\\Comision2_EmilioGarcíaCalletti.ipynb Cell 9'\u001b[0m in \u001b[0;36m<cell line: 3>\u001b[1;34m()\u001b[0m\n\u001b[0;32m      <a href='vscode-notebook-cell:/c%3A/Users/Emilio/Downloads/Comision2_EmilioGarc%C3%ADaCalletti.ipynb#ch0000007?line=0'>1</a>\u001b[0m \u001b[39m# 1. Mostrar la información de los primeros 5 pasajeros\u001b[39;00m\n\u001b[1;32m----> <a href='vscode-notebook-cell:/c%3A/Users/Emilio/Downloads/Comision2_EmilioGarc%C3%ADaCalletti.ipynb#ch0000007?line=2'>3</a>\u001b[0m \u001b[39mprint\u001b[39m(df_passenger[\u001b[39m0\u001b[39m:\u001b[39m5\u001b[39m])\n",
            "\u001b[1;31mNameError\u001b[0m: name 'df_passenger' is not defined"
          ]
        }
      ],
      "source": [
        "# 1. Mostrar la información de los primeros 5 pasajeros\n",
        "\n",
        "print(df_passenger[0:5])"
      ]
    },
    {
      "cell_type": "code",
      "execution_count": 265,
      "metadata": {
        "colab": {
          "base_uri": "https://localhost:8080/"
        },
        "id": "MBbKHU0SQqxJ",
        "outputId": "f0f1e319-1558-468f-cdd9-25272d41eb38"
      },
      "outputs": [
        {
          "name": "stdout",
          "output_type": "stream",
          "text": [
            "     PassengerId  Survived  Pclass                                      Name  \\\n",
            "886          887         0       2                     Montvila, Rev. Juozas   \n",
            "887          888         1       1              Graham, Miss. Margaret Edith   \n",
            "888          889         0       3  Johnston, Miss. Catherine Helen \"Carrie\"   \n",
            "889          890         1       1                     Behr, Mr. Karl Howell   \n",
            "890          891         0       3                       Dooley, Mr. Patrick   \n",
            "\n",
            "        Sex   Age  SibSp  Parch      Ticket   Fare Cabin Embarked  \n",
            "886    male  27.0      0      0      211536  13.00   NaN        S  \n",
            "887  female  19.0      0      0      112053  30.00   B42        S  \n",
            "888  female   NaN      1      2  W./C. 6607  23.45   NaN        S  \n",
            "889    male  26.0      0      0      111369  30.00  C148        C  \n",
            "890    male  32.0      0      0      370376   7.75   NaN        Q  \n"
          ]
        }
      ],
      "source": [
        "# 2. Mostrar la información de los últimos 5 pasajeros.\n",
        "\n",
        "print(df_passenger[886:891])"
      ]
    },
    {
      "cell_type": "code",
      "execution_count": 266,
      "metadata": {
        "colab": {
          "base_uri": "https://localhost:8080/"
        },
        "id": "KZKKA2M0Ryai",
        "outputId": "ddb8d256-1a6e-406a-ca7a-3857858e7495"
      },
      "outputs": [
        {
          "name": "stdout",
          "output_type": "stream",
          "text": [
            "(891, 12)\n"
          ]
        }
      ],
      "source": [
        "# 3. Mostrar la cantidad total de filas y columnas.\n",
        "\n",
        "print(df_passenger.shape)"
      ]
    },
    {
      "cell_type": "code",
      "execution_count": 267,
      "metadata": {
        "colab": {
          "base_uri": "https://localhost:8080/"
        },
        "id": "b-yxAATrTVdu",
        "outputId": "caa64dd5-5442-4b18-b977-99ee896df5c2"
      },
      "outputs": [
        {
          "name": "stdout",
          "output_type": "stream",
          "text": [
            "La recaudación total es 28693.9493\n"
          ]
        }
      ],
      "source": [
        "# 4. ¿Cuándo dinero se recaudó en ese viaje?\n",
        "\n",
        "total=df_passenger['Fare'].sum()\n",
        "print(f\"La recaudación total es {total}\")"
      ]
    },
    {
      "cell_type": "code",
      "execution_count": 268,
      "metadata": {
        "colab": {
          "base_uri": "https://localhost:8080/"
        },
        "id": "vrFrj2vOXkzr",
        "outputId": "1f37d5a4-690d-42d1-8838-1fce55f744f3"
      },
      "outputs": [
        {
          "name": "stdout",
          "output_type": "stream",
          "text": [
            "La cantidad de personas en primera clase es 1    216\n",
            "Name: Pclass, dtype: int64\n"
          ]
        }
      ],
      "source": [
        "# 5. ¿Cuál es la cantidad de personas que viajaban en primera clase?\n",
        "\n",
        "total_Pclass1 = df_passenger[df_passenger['Pclass'] == 1]['Pclass'].value_counts()\n",
        "print(f\"La cantidad de personas en primera clase es {total_Pclass1}\")"
      ]
    },
    {
      "cell_type": "code",
      "execution_count": 269,
      "metadata": {
        "colab": {
          "base_uri": "https://localhost:8080/",
          "height": 283
        },
        "id": "Q3uopzTYbMff",
        "outputId": "e0d460e8-3f72-4ed2-bbe1-6060f96b0e3b"
      },
      "outputs": [
        {
          "data": {
            "text/plain": [
              "<matplotlib.axes._subplots.AxesSubplot at 0x7fd5ba137490>"
            ]
          },
          "execution_count": 269,
          "metadata": {},
          "output_type": "execute_result"
        },
        {
          "data": {
            "image/png": "[encoded data removed]",
            "text/plain": [
              "<Figure size 432x288 with 1 Axes>"
            ]
          },
          "metadata": {
            "needs_background": "light"
          },
          "output_type": "display_data"
        }
      ],
      "source": [
        "# 6. Graficar la cantidad de personas que viajaban por cada clase del barco.\n",
        "\n",
        "df_passenger['Pclass'].value_counts().plot(kind='barh',color=['b','g','y'])"
      ]
    }
  ],
  "metadata": {
    "colab": {
      "collapsed_sections": [],
      "name": "Comision2_EmilioGarcíaCalletti.ipynb",
      "provenance": []
    },
    "kernelspec": {
      "display_name": "Python 3.9.13 64-bit",
      "language": "python",
      "name": "python3"
    },
    "language_info": {
      "codemirror_mode": {
        "name": "ipython",
        "version": 3
      },
      "file_extension": ".py",
      "mimetype": "text/x-python",
      "name": "python",
      "nbconvert_exporter": "python",
      "pygments_lexer": "ipython3",
      "version": "3.9.13"
    },
    "vscode": {
      "interpreter": {
        "hash": "8159c1e168c02100939452fcc6d7bafd4bcc30b583ebbd46dedb5d4c17a24347"
      }
    }
  },
  "nbformat": 4,
  "nbformat_minor": 0
}
